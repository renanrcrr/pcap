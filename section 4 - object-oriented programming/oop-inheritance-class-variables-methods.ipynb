{
 "cells": [
  {
   "cell_type": "code",
   "execution_count": 6,
   "id": "f4ddfb3b",
   "metadata": {},
   "outputs": [],
   "source": [
    "class Vehicle():\n",
    "    class_message = 'This is a message from the Vehicle class!'\n",
    "    def __init__(self, speed):\n",
    "        self.speed = speed\n",
    "\n",
    "'''\n",
    "Vehicle.__init__(self, speed)\n",
    "super()._init__(speed)\n",
    "'''\n",
    "        \n",
    "class LandVehicle(Vehicle):\n",
    "    def __init__(self, speed, wheel_count):\n",
    "        super().__init__(speed)\n",
    "        self.wheel_count = wheel_count\n",
    "        print(Vehicle.class_message) # class variable can be accessed by class name\n",
    "        print(super().class_message) # class variable can be accessed by super key-word\n",
    "\n",
    "class Car(LandVehicle):\n",
    "    pass"
   ]
  },
  {
   "cell_type": "code",
   "execution_count": 4,
   "id": "ac346b61",
   "metadata": {},
   "outputs": [
    {
     "name": "stdout",
     "output_type": "stream",
     "text": [
      "This is a message from the Vehicle class!\n",
      "This is a message from the Vehicle class!\n"
     ]
    }
   ],
   "source": [
    "myCar = Car(40, 9)\n"
   ]
  },
  {
   "cell_type": "code",
   "execution_count": 7,
   "id": "e525b307",
   "metadata": {},
   "outputs": [
    {
     "data": {
      "text/plain": [
       "'This is a message from the Vehicle class!'"
      ]
     },
     "execution_count": 7,
     "metadata": {},
     "output_type": "execute_result"
    }
   ],
   "source": [
    "myCar.class_message # class variable can be access via object"
   ]
  },
  {
   "cell_type": "code",
   "execution_count": 12,
   "id": "3edf0ca0",
   "metadata": {},
   "outputs": [],
   "source": [
    "class Vehicle():\n",
    "    class_message = 'This is a message from the Vehicle class!'\n",
    "    def __init__(self, speed):\n",
    "        self.speed = speed\n",
    "   \n",
    "class LandVehicle(Vehicle):\n",
    "    def __init__(self, speed, wheel_count):\n",
    "        super().__init__(speed)\n",
    "        self.wheel_count = wheel_count\n",
    "        print(Vehicle.class_message) # class variable can be accessed by class name\n",
    "        print(super().class_message) # class variable can be accessed by super key-word\n",
    "    \n",
    "    def speed_up(self):\n",
    "        self.speed += 5\n",
    "\n",
    "class Car(LandVehicle):\n",
    "    def super_speed(self):\n",
    "        print('Super speed activated!')\n",
    "        super().speed_up()\n",
    "        super().speed_up()\n",
    "        super().speed_up()"
   ]
  },
  {
   "cell_type": "code",
   "execution_count": 13,
   "id": "30f80daf",
   "metadata": {},
   "outputs": [
    {
     "name": "stdout",
     "output_type": "stream",
     "text": [
      "This is a message from the Vehicle class!\n",
      "This is a message from the Vehicle class!\n",
      "{'speed': 10, 'wheel_count': 4}\n",
      "Super speed activated!\n",
      "{'speed': 25, 'wheel_count': 4}\n"
     ]
    }
   ],
   "source": [
    "my_fast_car = Car(10, 4)\n",
    "print(my_fast_car.__dict__)\n",
    "my_fast_car.super_speed()\n",
    "print(my_fast_car.__dict__)"
   ]
  },
  {
   "cell_type": "code",
   "execution_count": null,
   "id": "277ed709",
   "metadata": {},
   "outputs": [],
   "source": []
  }
 ],
 "metadata": {
  "kernelspec": {
   "display_name": "Python 3 (ipykernel)",
   "language": "python",
   "name": "python3"
  },
  "language_info": {
   "codemirror_mode": {
    "name": "ipython",
    "version": 3
   },
   "file_extension": ".py",
   "mimetype": "text/x-python",
   "name": "python",
   "nbconvert_exporter": "python",
   "pygments_lexer": "ipython3",
   "version": "3.11.3"
  }
 },
 "nbformat": 4,
 "nbformat_minor": 5
}

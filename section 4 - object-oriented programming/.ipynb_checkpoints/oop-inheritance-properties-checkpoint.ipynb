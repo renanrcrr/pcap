{
 "cells": [
  {
   "cell_type": "code",
   "execution_count": 1,
   "id": "6d829ebc",
   "metadata": {},
   "outputs": [],
   "source": [
    "class Vehicle():\n",
    "    pass\n",
    "\n",
    "class LandVehicle(Vehicle):\n",
    "    pass\n",
    "\n",
    "class Car(LandVehicle):\n",
    "    pass"
   ]
  },
  {
   "cell_type": "code",
   "execution_count": 2,
   "id": "188bba59",
   "metadata": {},
   "outputs": [
    {
     "name": "stdout",
     "output_type": "stream",
     "text": [
      "{}\n"
     ]
    }
   ],
   "source": [
    "my_car = Car()\n",
    "print(my_car.__dict__)"
   ]
  },
  {
   "cell_type": "code",
   "execution_count": 3,
   "id": "69a3fbf3",
   "metadata": {},
   "outputs": [],
   "source": [
    "class Vehicle():\n",
    "    def __init__(self, speed):\n",
    "        self.speed = speed\n",
    "\n",
    "class LandVehicle(Vehicle):\n",
    "    pass\n",
    "\n",
    "class Car(LandVehicle):\n",
    "    pass"
   ]
  },
  {
   "cell_type": "code",
   "execution_count": 6,
   "id": "a98e7a2c",
   "metadata": {},
   "outputs": [
    {
     "ename": "TypeError",
     "evalue": "Vehicle.__init__() missing 1 required positional argument: 'speed'",
     "output_type": "error",
     "traceback": [
      "\u001b[1;31m---------------------------------------------------------------------------\u001b[0m",
      "\u001b[1;31mTypeError\u001b[0m                                 Traceback (most recent call last)",
      "Cell \u001b[1;32mIn[6], line 2\u001b[0m\n\u001b[0;32m      1\u001b[0m \u001b[38;5;66;03m# TypeError = Because the obj Car was created without speed attribute which exist in superclass Vehicle\u001b[39;00m\n\u001b[1;32m----> 2\u001b[0m my_car \u001b[38;5;241m=\u001b[39m Car()\n\u001b[0;32m      3\u001b[0m \u001b[38;5;28mprint\u001b[39m(my_car\u001b[38;5;241m.\u001b[39m\u001b[38;5;18m__dict__\u001b[39m)\n",
      "\u001b[1;31mTypeError\u001b[0m: Vehicle.__init__() missing 1 required positional argument: 'speed'"
     ]
    }
   ],
   "source": [
    "# TypeError = Because the obj Car was created without speed attribute which exist in superclass Vehicle\n",
    "my_car = Car()\n",
    "print(my_car.__dict__)"
   ]
  },
  {
   "cell_type": "code",
   "execution_count": 7,
   "id": "bb2d881a",
   "metadata": {},
   "outputs": [],
   "source": [
    "class Vehicle():\n",
    "    def __init__(self, speed):\n",
    "        self.speed = speed\n",
    "\n",
    "class LandVehicle(Vehicle):\n",
    "    def __init__(self, wheel_count):\n",
    "        self.wheel_count = wheel_count\n",
    "\n",
    "class Car(LandVehicle):\n",
    "    pass"
   ]
  },
  {
   "cell_type": "code",
   "execution_count": 9,
   "id": "589c0420",
   "metadata": {},
   "outputs": [
    {
     "name": "stdout",
     "output_type": "stream",
     "text": [
      "{'wheel_count': 5}\n"
     ]
    }
   ],
   "source": [
    "# Value 5 will be added to the first superclass (father) instead of the grandfather\n",
    "my_car = Car(5)\n",
    "print(my_car.__dict__)"
   ]
  },
  {
   "cell_type": "code",
   "execution_count": 17,
   "id": "2408c2b0",
   "metadata": {},
   "outputs": [],
   "source": [
    "class Vehicle():\n",
    "    def __init__(self, speed):\n",
    "        self.speed = speed\n",
    "\n",
    "'''\n",
    "Vehicle.__init__(self, speed)\n",
    "super()._init__(speed)\n",
    "'''\n",
    "        \n",
    "class LandVehicle(Vehicle):\n",
    "    def __init__(self, speed, wheel_count):\n",
    "        super().__init__(speed)\n",
    "        self.wheel_count = wheel_count\n",
    "\n",
    "class Car(LandVehicle):\n",
    "    pass"
   ]
  },
  {
   "cell_type": "code",
   "execution_count": 16,
   "id": "31952d88",
   "metadata": {},
   "outputs": [
    {
     "name": "stdout",
     "output_type": "stream",
     "text": [
      "{'speed': 5, 'wheel_count': 10}\n"
     ]
    }
   ],
   "source": [
    "# Value 5 will be added to speed and 10 to wheel_count\n",
    "my_car = Car(5, 10)\n",
    "print(my_car.__dict__)"
   ]
  },
  {
   "cell_type": "code",
   "execution_count": null,
   "id": "4689bd47",
   "metadata": {},
   "outputs": [],
   "source": []
  }
 ],
 "metadata": {
  "kernelspec": {
   "display_name": "Python 3 (ipykernel)",
   "language": "python",
   "name": "python3"
  },
  "language_info": {
   "codemirror_mode": {
    "name": "ipython",
    "version": 3
   },
   "file_extension": ".py",
   "mimetype": "text/x-python",
   "name": "python",
   "nbconvert_exporter": "python",
   "pygments_lexer": "ipython3",
   "version": "3.11.3"
  }
 },
 "nbformat": 4,
 "nbformat_minor": 5
}

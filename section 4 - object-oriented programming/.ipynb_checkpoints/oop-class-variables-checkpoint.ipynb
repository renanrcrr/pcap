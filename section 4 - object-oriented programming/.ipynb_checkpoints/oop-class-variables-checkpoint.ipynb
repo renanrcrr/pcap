{
 "cells": [
  {
   "cell_type": "code",
   "execution_count": 7,
   "id": "5d867dc7",
   "metadata": {},
   "outputs": [
    {
     "name": "stdout",
     "output_type": "stream",
     "text": [
      "3\n",
      "3\n",
      "3\n"
     ]
    }
   ],
   "source": [
    "class Dog():\n",
    "    counter = 0\n",
    "    \n",
    "    def __init__(self, name, age):\n",
    "        self.__name = name\n",
    "        self.age = age\n",
    "        Dog.counter += 1\n",
    "    \n",
    "my_pet1 = Dog('Mario', 2)\n",
    "my_pet2 = Dog('Fox', 3)\n",
    "my_pet3 = Dog('Lara', 5)\n",
    "\n",
    "# Objects access the same value\n",
    "print(my_pet1.counter)\n",
    "print(my_pet2.counter)\n",
    "print(my_pet3.counter)"
   ]
  },
  {
   "cell_type": "code",
   "execution_count": 4,
   "id": "0f844c1a",
   "metadata": {},
   "outputs": [
    {
     "data": {
      "text/plain": [
       "{'_Dog__name': 'Mario', 'age': 2}"
      ]
     },
     "execution_count": 4,
     "metadata": {},
     "output_type": "execute_result"
    }
   ],
   "source": [
    "my_pet1.__dict__ "
   ]
  },
  {
   "cell_type": "code",
   "execution_count": 6,
   "id": "f0631462",
   "metadata": {},
   "outputs": [
    {
     "data": {
      "text/plain": [
       "3"
      ]
     },
     "execution_count": 6,
     "metadata": {},
     "output_type": "execute_result"
    }
   ],
   "source": [
    "Dog.counter # Class can directly access its variable"
   ]
  },
  {
   "cell_type": "code",
   "execution_count": 8,
   "id": "11d3c297",
   "metadata": {},
   "outputs": [
    {
     "name": "stdout",
     "output_type": "stream",
     "text": [
      "{'__module__': '__main__', 'counter': 3, '__init__': <function Dog.__init__ at 0x00000249385DAFC0>, '__dict__': <attribute '__dict__' of 'Dog' objects>, '__weakref__': <attribute '__weakref__' of 'Dog' objects>, '__doc__': None}\n"
     ]
    }
   ],
   "source": [
    "print(Dog.__dict__)"
   ]
  },
  {
   "cell_type": "code",
   "execution_count": 14,
   "id": "4720ca3b",
   "metadata": {},
   "outputs": [
    {
     "name": "stdout",
     "output_type": "stream",
     "text": [
      "My pet has no name\n",
      "My Dog class has a counter\n"
     ]
    }
   ],
   "source": [
    "class Dog():\n",
    "    counter = 0\n",
    "    \n",
    "    def __init__(self, name, age):\n",
    "        self.__name = name\n",
    "        self.age = age\n",
    "        Dog.counter += 1\n",
    "        \n",
    "my_pet = Dog('Tom', 2)\n",
    "\n",
    "if hasattr(my_pet, 'name'): # attribute is private\n",
    "    print('My pet is called', my_pet.name)\n",
    "else:\n",
    "    print('My pet has no name')\n",
    "    \n",
    "if hasattr(Dog, 'counter'): # attribute is private\n",
    "    print('My Dog class has a counter')\n",
    "else:\n",
    "    print('My Dog has no name')"
   ]
  },
  {
   "cell_type": "code",
   "execution_count": 15,
   "id": "442a0a97",
   "metadata": {},
   "outputs": [
    {
     "name": "stdout",
     "output_type": "stream",
     "text": [
      "Dog\n"
     ]
    }
   ],
   "source": [
    "print(Dog.__name__)"
   ]
  },
  {
   "cell_type": "code",
   "execution_count": 17,
   "id": "92636637",
   "metadata": {},
   "outputs": [
    {
     "data": {
      "text/plain": [
       "'Dog'"
      ]
     },
     "execution_count": 17,
     "metadata": {},
     "output_type": "execute_result"
    }
   ],
   "source": [
    "type(my_pet).__name__"
   ]
  },
  {
   "cell_type": "code",
   "execution_count": 18,
   "id": "9c6d64a8",
   "metadata": {},
   "outputs": [
    {
     "name": "stdout",
     "output_type": "stream",
     "text": [
      "__main__\n"
     ]
    }
   ],
   "source": [
    "print(Dog.__module__)"
   ]
  },
  {
   "cell_type": "code",
   "execution_count": null,
   "id": "331dca5e",
   "metadata": {},
   "outputs": [],
   "source": []
  }
 ],
 "metadata": {
  "kernelspec": {
   "display_name": "Python 3 (ipykernel)",
   "language": "python",
   "name": "python3"
  },
  "language_info": {
   "codemirror_mode": {
    "name": "ipython",
    "version": 3
   },
   "file_extension": ".py",
   "mimetype": "text/x-python",
   "name": "python",
   "nbconvert_exporter": "python",
   "pygments_lexer": "ipython3",
   "version": "3.11.3"
  }
 },
 "nbformat": 4,
 "nbformat_minor": 5
}

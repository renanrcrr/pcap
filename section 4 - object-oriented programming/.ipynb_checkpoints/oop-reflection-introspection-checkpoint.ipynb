{
 "cells": [
  {
   "cell_type": "code",
   "execution_count": 8,
   "id": "7956352f",
   "metadata": {},
   "outputs": [
    {
     "data": {
      "text/plain": [
       "'\\n1.Introspection is the ability of a program to check the type of an object or its properties at runtime. \\nIt allows to get some information about an object during the program execution.\\n\\n2.Reflection is the ability of a program to change the properties or methods of an object at runtime.\\nIt allows to change some information about an object during the program execution.\\n\\nPython allows both ones.\\n'"
      ]
     },
     "execution_count": 8,
     "metadata": {},
     "output_type": "execute_result"
    }
   ],
   "source": [
    "'''\n",
    "1.Introspection is the ability of a program to check the type of an object or its properties at runtime. \n",
    "It allows to get some information about an object during the program execution.\n",
    "\n",
    "2.Reflection is the ability of a program to change the properties or methods of an object at runtime.\n",
    "It allows to change some information about an object during the program execution.\n",
    "\n",
    "Python allows both ones.\n",
    "'''\n"
   ]
  },
  {
   "cell_type": "code",
   "execution_count": 24,
   "id": "2e3344c6",
   "metadata": {},
   "outputs": [],
   "source": [
    "'''\n",
    "Task: Create a function that modifies all string properties of any object by turning them into empty strings.\n",
    "'''\n",
    "\n",
    "def empty_strings(user_object):\n",
    "    for prop_name in user_object.__dict__.keys():\n",
    "        prop_value = getattr(user_object, prop_name)\n",
    "        if isinstance(prop_value, str):\n",
    "            setattr(user_object, prop_name, '')"
   ]
  },
  {
   "cell_type": "code",
   "execution_count": 15,
   "id": "e8fc2d7c",
   "metadata": {},
   "outputs": [],
   "source": [
    "class Doctor():\n",
    "    def __init__(self, first_name = 'John', last_name = 'Smith'):\n",
    "        self.first_name = first_name\n",
    "        self.last_name = last_name\n",
    "        self.__format_names()\n",
    "    \n",
    "    # Private method\n",
    "    def __format_names(self):\n",
    "        self.first_name = self.first_name.title()\n",
    "        self.last_name = self.last_name.title()\n",
    "    \n",
    "    # Public method\n",
    "    def introduce(self):\n",
    "        print('Hi, I am', self.first_name)\n",
    "    \n",
    "    # Public method\n",
    "    def compare_name(self, name_to_compare):\n",
    "        if self.first_name == name_to_compare:\n",
    "            print('We have the same name!')\n",
    "        else:\n",
    "            print('Sorry, my name is different...')\n",
    "    \n",
    "    # Public method\n",
    "    def get_first_last_name_together(self):\n",
    "        return self.first_name + ' ' + self.last_name\n",
    "    \n",
    "    # Return the obj string formatted\n",
    "    def __str__(self):\n",
    "        return 'Doctor = ' + self.first_name + ' ' + self.last_name"
   ]
  },
  {
   "cell_type": "code",
   "execution_count": 26,
   "id": "5524ba18",
   "metadata": {},
   "outputs": [
    {
     "name": "stdout",
     "output_type": "stream",
     "text": [
      "{'first_name': '', 'last_name': ''}\n",
      "Hi, I am Osley\n",
      "Hi, I am \n"
     ]
    }
   ],
   "source": [
    "print(doc_mamae.__dict__)\n",
    "\n",
    "doc_mamae = Doctor('Osley', 'Rodrigues')\n",
    "doc_mamae.introduce()\n",
    "\n",
    "empty_strings(doc_mamae)\n",
    "doc_mamae.introduce()"
   ]
  },
  {
   "cell_type": "code",
   "execution_count": null,
   "id": "dfc6565e",
   "metadata": {},
   "outputs": [],
   "source": []
  },
  {
   "cell_type": "code",
   "execution_count": null,
   "id": "126c5bbc",
   "metadata": {},
   "outputs": [],
   "source": []
  }
 ],
 "metadata": {
  "kernelspec": {
   "display_name": "Python 3 (ipykernel)",
   "language": "python",
   "name": "python3"
  },
  "language_info": {
   "codemirror_mode": {
    "name": "ipython",
    "version": 3
   },
   "file_extension": ".py",
   "mimetype": "text/x-python",
   "name": "python",
   "nbconvert_exporter": "python",
   "pygments_lexer": "ipython3",
   "version": "3.11.3"
  }
 },
 "nbformat": 4,
 "nbformat_minor": 5
}

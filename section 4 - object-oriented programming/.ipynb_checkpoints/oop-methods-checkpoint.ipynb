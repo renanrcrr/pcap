{
 "cells": [
  {
   "cell_type": "code",
   "execution_count": 17,
   "id": "5b01eb56",
   "metadata": {},
   "outputs": [
    {
     "name": "stdout",
     "output_type": "stream",
     "text": [
      "Hi, I am Alexandre\n",
      "Sorry, my name is different...\n",
      "{'first_name': 'Alexandre', 'last_name': 'Smith'}\n",
      "\n",
      "{'__module__': '__main__', '__init__': <function Doctor.__init__ at 0x000001FDD8938B80>, '_Doctor__format_names': <function Doctor.__format_names at 0x000001FDD89391C0>, 'introduce': <function Doctor.introduce at 0x000001FDD8939260>, 'compare_name': <function Doctor.compare_name at 0x000001FDD8939300>, 'get_first_last_name_together': <function Doctor.get_first_last_name_together at 0x000001FDD89393A0>, '__str__': <function Doctor.__str__ at 0x000001FDD8939440>, '__dict__': <attribute '__dict__' of 'Doctor' objects>, '__weakref__': <attribute '__weakref__' of 'Doctor' objects>, '__doc__': None}\n"
     ]
    }
   ],
   "source": [
    "class Doctor():\n",
    "    def __init__(self, first_name = 'John', last_name = 'Smith'):\n",
    "        self.first_name = first_name\n",
    "        self.last_name = last_name\n",
    "        self.__format_names()\n",
    "    \n",
    "    # Private method\n",
    "    def __format_names(self):\n",
    "        self.first_name = self.first_name.title()\n",
    "        self.last_name = self.last_name.title()\n",
    "    \n",
    "    # Public method\n",
    "    def introduce(self):\n",
    "        print('Hi, I am', self.first_name)\n",
    "    \n",
    "    # Public method\n",
    "    def compare_name(self, name_to_compare):\n",
    "        if self.first_name == name_to_compare:\n",
    "            print('We have the same name!')\n",
    "        else:\n",
    "            print('Sorry, my name is different...')\n",
    "    \n",
    "    # Public method\n",
    "    def get_first_last_name_together(self):\n",
    "        return self.first_name + ' ' + self.last_name\n",
    "    \n",
    "    # Return the obj string formatted\n",
    "    def __str__(self):\n",
    "        return 'Doctor = ' + self.first_name + ' ' + self.last_name\n",
    "\n",
    "doc_alex = Doctor('Alexandre', 'SMith')\n",
    "doc_alex.introduce()\n",
    "doc_alex.compare_name('John\\n')\n",
    "print(doc_alex.__dict__)\n",
    "print()\n",
    "\n",
    "print(Doctor.__dict__)"
   ]
  },
  {
   "cell_type": "code",
   "execution_count": 13,
   "id": "42ae9a44",
   "metadata": {},
   "outputs": [
    {
     "name": "stdout",
     "output_type": "stream",
     "text": [
      "Doctor = Alexandre Smith\n"
     ]
    }
   ],
   "source": [
    "print(doc_alex)"
   ]
  },
  {
   "cell_type": "code",
   "execution_count": null,
   "id": "5c90960e",
   "metadata": {},
   "outputs": [],
   "source": []
  }
 ],
 "metadata": {
  "kernelspec": {
   "display_name": "Python 3 (ipykernel)",
   "language": "python",
   "name": "python3"
  },
  "language_info": {
   "codemirror_mode": {
    "name": "ipython",
    "version": 3
   },
   "file_extension": ".py",
   "mimetype": "text/x-python",
   "name": "python",
   "nbconvert_exporter": "python",
   "pygments_lexer": "ipython3",
   "version": "3.11.3"
  }
 },
 "nbformat": 4,
 "nbformat_minor": 5
}

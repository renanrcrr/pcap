{
 "cells": [
  {
   "cell_type": "code",
   "execution_count": 7,
   "id": "7654da76",
   "metadata": {},
   "outputs": [],
   "source": [
    "class Car():\n",
    "    def __init__(self, model, colour, initial_speed = 0):\n",
    "        self.model = model\n",
    "        self.colour = colour\n",
    "        if initial_speed < 0:\n",
    "            self.__speed = 0\n",
    "        else:\n",
    "            self.__speed = initial_speed\n",
    "    \n",
    "    def speed_up(self):\n",
    "        self.__speed += 5\n",
    "    \n",
    "    def speed_down(self):\n",
    "        if self.__speed < 5:\n",
    "            self.__speed = 0\n",
    "        else:\n",
    "            self.__speed -= 5\n",
    "    \n",
    "    def show_speed(self):\n",
    "        print('Current speed:', self.__speed)"
   ]
  },
  {
   "cell_type": "code",
   "execution_count": 8,
   "id": "e980fd6f",
   "metadata": {},
   "outputs": [
    {
     "name": "stdout",
     "output_type": "stream",
     "text": [
      "Current speed: 0\n"
     ]
    }
   ],
   "source": [
    "my_car = Car('Brasilia', 'Amarela', -60)\n",
    "my_car.speed = -10\n",
    "my_car.show_speed()"
   ]
  },
  {
   "cell_type": "code",
   "execution_count": null,
   "id": "a760a0d2",
   "metadata": {},
   "outputs": [],
   "source": []
  }
 ],
 "metadata": {
  "kernelspec": {
   "display_name": "Python 3 (ipykernel)",
   "language": "python",
   "name": "python3"
  },
  "language_info": {
   "codemirror_mode": {
    "name": "ipython",
    "version": 3
   },
   "file_extension": ".py",
   "mimetype": "text/x-python",
   "name": "python",
   "nbconvert_exporter": "python",
   "pygments_lexer": "ipython3",
   "version": "3.11.3"
  }
 },
 "nbformat": 4,
 "nbformat_minor": 5
}

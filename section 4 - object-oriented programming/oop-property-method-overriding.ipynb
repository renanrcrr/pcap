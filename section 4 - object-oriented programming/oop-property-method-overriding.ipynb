{
 "cells": [
  {
   "cell_type": "code",
   "execution_count": 1,
   "id": "b513c9cd",
   "metadata": {},
   "outputs": [],
   "source": [
    "class Animal():\n",
    "    def __init__(self):\n",
    "        self.species = 'general'\n",
    "    \n",
    "    def produce_sound(self):\n",
    "        print('General animal sound')\n",
    "\n",
    "class Dog(Animal):\n",
    "    pass"
   ]
  },
  {
   "cell_type": "code",
   "execution_count": 3,
   "id": "2d67c718",
   "metadata": {},
   "outputs": [
    {
     "name": "stdout",
     "output_type": "stream",
     "text": [
      "general\n",
      "General animal sound\n"
     ]
    }
   ],
   "source": [
    "my_pet = Dog()\n",
    "print(my_pet.species)\n",
    "my_pet.produce_sound()"
   ]
  },
  {
   "cell_type": "code",
   "execution_count": 4,
   "id": "1b95e5f6",
   "metadata": {},
   "outputs": [],
   "source": [
    "class Animal():\n",
    "    def __init__(self):\n",
    "        self.species = 'general'\n",
    "    \n",
    "    def produce_sound(self):\n",
    "        print('General animal sound')\n",
    "\n",
    "class Dog(Animal):\n",
    "    def __init__(self):\n",
    "        self.species = 'Canis familiares'\n",
    "    \n",
    "    def produce_sound(self):\n",
    "        print('Rof Rof')"
   ]
  },
  {
   "cell_type": "code",
   "execution_count": 5,
   "id": "11e3e972",
   "metadata": {},
   "outputs": [
    {
     "name": "stdout",
     "output_type": "stream",
     "text": [
      "Canis familiares\n",
      "Rof Rof\n"
     ]
    }
   ],
   "source": [
    "my_pet = Dog()\n",
    "print(my_pet.species)\n",
    "my_pet.produce_sound()"
   ]
  },
  {
   "cell_type": "code",
   "execution_count": 7,
   "id": "af1ef0d2",
   "metadata": {},
   "outputs": [
    {
     "data": {
      "text/plain": [
       "'\\nOOP principles:\\n\\n1.Encapsulation\\n2.Abstraction\\n3.Polymorphism = It is the ability of classes to take different forms\\n4.Inheritance\\n'"
      ]
     },
     "execution_count": 7,
     "metadata": {},
     "output_type": "execute_result"
    }
   ],
   "source": [
    "'''\n",
    "OOP principles:\n",
    "\n",
    "1.Encapsulation\n",
    "2.Abstraction\n",
    "3.Polymorphism = It is the ability of classes to take different forms\n",
    "4.Inheritance\n",
    "'''"
   ]
  },
  {
   "cell_type": "code",
   "execution_count": 9,
   "id": "b522a1b7",
   "metadata": {},
   "outputs": [
    {
     "name": "stdout",
     "output_type": "stream",
     "text": [
      "General animal sound\n",
      "Rof Rof\n"
     ]
    }
   ],
   "source": [
    "myFirstPet = Animal()\n",
    "mySecondPet = Dog()\n",
    "myFirstPet.produce_sound()\n",
    "mySecondPet.produce_sound()"
   ]
  },
  {
   "cell_type": "code",
   "execution_count": 10,
   "id": "75c51194",
   "metadata": {},
   "outputs": [],
   "source": [
    "class Animal():\n",
    "    def __init__(self):\n",
    "        self.species = 'general'\n",
    "    \n",
    "    def produce_sound(self):\n",
    "        print('General animal sound')\n",
    "        \n",
    "    def present(self):\n",
    "        print('I can do the following sound:')\n",
    "        self.produce_sound()\n",
    "\n",
    "class Dog(Animal):\n",
    "    def __init__(self):\n",
    "        self.species = 'Canis familiares'\n",
    "    \n",
    "    def produce_sound(self):\n",
    "        print('Rof Rof')"
   ]
  },
  {
   "cell_type": "code",
   "execution_count": 11,
   "id": "5c36fa8a",
   "metadata": {},
   "outputs": [],
   "source": [
    "myFirstPet = Animal()\n",
    "mySecondPet = Dog()\n",
    "\n",
    "myFirstPet.present()"
   ]
  },
  {
   "cell_type": "code",
   "execution_count": null,
   "id": "ae8e9a32",
   "metadata": {},
   "outputs": [],
   "source": []
  }
 ],
 "metadata": {
  "kernelspec": {
   "display_name": "Python 3 (ipykernel)",
   "language": "python",
   "name": "python3"
  },
  "language_info": {
   "codemirror_mode": {
    "name": "ipython",
    "version": 3
   },
   "file_extension": ".py",
   "mimetype": "text/x-python",
   "name": "python",
   "nbconvert_exporter": "python",
   "pygments_lexer": "ipython3",
   "version": "3.11.3"
  }
 },
 "nbformat": 4,
 "nbformat_minor": 5
}

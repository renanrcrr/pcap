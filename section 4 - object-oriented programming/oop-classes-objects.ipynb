{
 "cells": [
  {
   "cell_type": "code",
   "execution_count": 1,
   "id": "18c93bb0",
   "metadata": {},
   "outputs": [
    {
     "name": "stdout",
     "output_type": "stream",
     "text": [
      "Hello, I am sampleNickName and I live in sampleCity\n"
     ]
    }
   ],
   "source": [
    "class User:\n",
    "    def __init__(self):\n",
    "        self.nickname = 'sampleNickName'\n",
    "        self.city = 'sampleCity'\n",
    "    \n",
    "    def introduce(self):\n",
    "        print('Hello, I am', self.nickname, 'and I live in', self.city)\n",
    "\n",
    "sample_user = User()\n",
    "sample_user.introduce()"
   ]
  },
  {
   "cell_type": "code",
   "execution_count": 3,
   "id": "dfa797f6",
   "metadata": {},
   "outputs": [
    {
     "name": "stdout",
     "output_type": "stream",
     "text": [
      "Hello, I am Alan and I live in Belem\n",
      "Alan\n"
     ]
    }
   ],
   "source": [
    "class User:\n",
    "    def __init__(self, user_nickname, user_city):\n",
    "        self.nickname = user_nickname\n",
    "        self.city = user_city\n",
    "    \n",
    "    def introduce(self):\n",
    "        print('Hello, I am', self.nickname, 'and I live in', self.city)\n",
    "\n",
    "sample_user = User('Alan', 'Belem')\n",
    "sample_user.introduce()\n",
    "\n",
    "print(sample_user.nickname)"
   ]
  },
  {
   "cell_type": "code",
   "execution_count": null,
   "id": "60aa18c1",
   "metadata": {},
   "outputs": [],
   "source": []
  }
 ],
 "metadata": {
  "kernelspec": {
   "display_name": "Python 3 (ipykernel)",
   "language": "python",
   "name": "python3"
  },
  "language_info": {
   "codemirror_mode": {
    "name": "ipython",
    "version": 3
   },
   "file_extension": ".py",
   "mimetype": "text/x-python",
   "name": "python",
   "nbconvert_exporter": "python",
   "pygments_lexer": "ipython3",
   "version": "3.11.3"
  }
 },
 "nbformat": 4,
 "nbformat_minor": 5
}

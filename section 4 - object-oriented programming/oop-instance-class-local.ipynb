{
 "cells": [
  {
   "cell_type": "code",
   "execution_count": 3,
   "id": "7a818aaa",
   "metadata": {},
   "outputs": [
    {
     "name": "stdout",
     "output_type": "stream",
     "text": [
      "low medium high\n",
      "The house at 12 Lexington St, Soho has an area of 130 and costs 870000\n",
      "1\n"
     ]
    }
   ],
   "source": [
    "class House():\n",
    "    counter = 0\n",
    "    def __init__(self, address, area, price):\n",
    "        self.address = address\n",
    "        self.area = area\n",
    "        self.price = price\n",
    "        House.counter += 1\n",
    "        \n",
    "        # class variable\n",
    "        House.quality = 'low'\n",
    "        \n",
    "        # instance variable\n",
    "        self.quality = 'medium'\n",
    "        \n",
    "        # local variable\n",
    "        quality = 'high'\n",
    "        \n",
    "        print(House.quality, self.quality, quality)\n",
    "    \n",
    "    def present(self):\n",
    "        print('The house at', self.address, 'has an area of', self.area, 'and costs', self.price)\n",
    "\n",
    "soho_house = House('12 Lexington St, Soho', 130, 870000)\n",
    "soho_house.present()\n",
    "print(House.counter)"
   ]
  },
  {
   "cell_type": "code",
   "execution_count": 5,
   "id": "81692955",
   "metadata": {},
   "outputs": [
    {
     "name": "stdout",
     "output_type": "stream",
     "text": [
      "low\n"
     ]
    }
   ],
   "source": [
    "print(House.quality)"
   ]
  },
  {
   "cell_type": "code",
   "execution_count": null,
   "id": "73aab730",
   "metadata": {},
   "outputs": [],
   "source": []
  }
 ],
 "metadata": {
  "kernelspec": {
   "display_name": "Python 3 (ipykernel)",
   "language": "python",
   "name": "python3"
  },
  "language_info": {
   "codemirror_mode": {
    "name": "ipython",
    "version": 3
   },
   "file_extension": ".py",
   "mimetype": "text/x-python",
   "name": "python",
   "nbconvert_exporter": "python",
   "pygments_lexer": "ipython3",
   "version": "3.11.3"
  }
 },
 "nbformat": 4,
 "nbformat_minor": 5
}

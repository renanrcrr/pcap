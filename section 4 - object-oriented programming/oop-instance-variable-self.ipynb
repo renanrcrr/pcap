{
 "cells": [
  {
   "cell_type": "code",
   "execution_count": 1,
   "id": "1476565b",
   "metadata": {},
   "outputs": [
    {
     "name": "stdout",
     "output_type": "stream",
     "text": [
      "100\n"
     ]
    }
   ],
   "source": [
    "'''\n",
    "A tricky question that I may encounter in the exam is the following: \n",
    "\n",
    "Can I provide a default value for the first parameter of a constructor (typically name self)?\n",
    "\n",
    "The answer is: I can do that, but the value will be simply ignored by Python.\n",
    "'''\n",
    "\n",
    "class Car():\n",
    "  def __init__(self='default value', speed=100):\n",
    "    self.speed = speed\n",
    " \n",
    "my_toyota = Car()\n",
    "print(my_toyota.speed)   # default value for self ignored"
   ]
  },
  {
   "cell_type": "code",
   "execution_count": null,
   "id": "2afdffb1",
   "metadata": {},
   "outputs": [],
   "source": []
  }
 ],
 "metadata": {
  "kernelspec": {
   "display_name": "Python 3 (ipykernel)",
   "language": "python",
   "name": "python3"
  },
  "language_info": {
   "codemirror_mode": {
    "name": "ipython",
    "version": 3
   },
   "file_extension": ".py",
   "mimetype": "text/x-python",
   "name": "python",
   "nbconvert_exporter": "python",
   "pygments_lexer": "ipython3",
   "version": "3.11.3"
  }
 },
 "nbformat": 4,
 "nbformat_minor": 5
}

{
 "cells": [
  {
   "cell_type": "code",
   "execution_count": 1,
   "id": "f2e0c923",
   "metadata": {},
   "outputs": [],
   "source": [
    "class Dog():\n",
    "    def __init__(self, name, age):\n",
    "        self.name = name\n",
    "        self.age = age\n",
    "    "
   ]
  },
  {
   "cell_type": "code",
   "execution_count": 14,
   "id": "e76a5c53",
   "metadata": {},
   "outputs": [
    {
     "data": {
      "text/plain": [
       "{'name': 'Hat', 'age': 2}"
      ]
     },
     "execution_count": 14,
     "metadata": {},
     "output_type": "execute_result"
    }
   ],
   "source": [
    "my_dog = Dog('Hat', 2)\n",
    "my_dog.__dict__ # Allows see the dic all the attributes available inside the object Dog"
   ]
  },
  {
   "cell_type": "code",
   "execution_count": 15,
   "id": "71d4bb92",
   "metadata": {},
   "outputs": [
    {
     "data": {
      "text/plain": [
       "{'name': 'Hat', 'age': 2, 'colour': 'Black'}"
      ]
     },
     "execution_count": 15,
     "metadata": {},
     "output_type": "execute_result"
    }
   ],
   "source": [
    "my_dog.colour = 'Black'\n",
    "my_dog.__dict__"
   ]
  },
  {
   "cell_type": "code",
   "execution_count": 16,
   "id": "af668556",
   "metadata": {},
   "outputs": [
    {
     "data": {
      "text/plain": [
       "{'name': 'Hat', 'colour': 'Black'}"
      ]
     },
     "execution_count": 16,
     "metadata": {},
     "output_type": "execute_result"
    }
   ],
   "source": [
    "del my_dog.age\n",
    "my_dog.__dict__"
   ]
  },
  {
   "cell_type": "code",
   "execution_count": 21,
   "id": "aff9c074",
   "metadata": {},
   "outputs": [],
   "source": [
    "class Dog():\n",
    "    def __init__(self, name, age):\n",
    "        self.__name = name # defined private variables \n",
    "        self.__age = age # defined private variables"
   ]
  },
  {
   "cell_type": "code",
   "execution_count": 22,
   "id": "1c24da0a",
   "metadata": {},
   "outputs": [
    {
     "ename": "AttributeError",
     "evalue": "'Dog' object has no attribute '__name'",
     "output_type": "error",
     "traceback": [
      "\u001b[1;31m---------------------------------------------------------------------------\u001b[0m",
      "\u001b[1;31mAttributeError\u001b[0m                            Traceback (most recent call last)",
      "Cell \u001b[1;32mIn[22], line 2\u001b[0m\n\u001b[0;32m      1\u001b[0m second_dog \u001b[38;5;241m=\u001b[39m Dog(\u001b[38;5;124m'\u001b[39m\u001b[38;5;124mFox\u001b[39m\u001b[38;5;124m'\u001b[39m, \u001b[38;5;241m10\u001b[39m)\n\u001b[1;32m----> 2\u001b[0m \u001b[38;5;28mprint\u001b[39m(second_dog\u001b[38;5;241m.\u001b[39m__name)\n",
      "\u001b[1;31mAttributeError\u001b[0m: 'Dog' object has no attribute '__name'"
     ]
    }
   ],
   "source": [
    "second_dog = Dog('Fox', 10)\n",
    "print(second_dog.__name) # obj can not access his variables when they are access private \n"
   ]
  },
  {
   "cell_type": "code",
   "execution_count": 24,
   "id": "c78bd7a2",
   "metadata": {},
   "outputs": [
    {
     "data": {
      "text/plain": [
       "{'_Dog__name': 'Fox', '_Dog__age': 10}"
      ]
     },
     "execution_count": 24,
     "metadata": {},
     "output_type": "execute_result"
    }
   ],
   "source": [
    "second_dog.__dict__"
   ]
  },
  {
   "cell_type": "code",
   "execution_count": 25,
   "id": "dfb7277d",
   "metadata": {},
   "outputs": [
    {
     "name": "stdout",
     "output_type": "stream",
     "text": [
      "Carlos\n"
     ]
    }
   ],
   "source": [
    "second_dog = Dog('Carlos', 20)\n",
    "print(second_dog._Dog__name)"
   ]
  },
  {
   "cell_type": "code",
   "execution_count": 30,
   "id": "0ecd65fd",
   "metadata": {},
   "outputs": [
    {
     "name": "stdout",
     "output_type": "stream",
     "text": [
      "{'_Dog__name': 'Carlos', '_Dog__age': 20, '__breed': 'Buldog'}\n"
     ]
    }
   ],
   "source": [
    "second_dog.__breed = 'Buldog' # It's possible access this private variable because it was created outside the class\n",
    "print(second_dog.__dict__)"
   ]
  },
  {
   "cell_type": "code",
   "execution_count": null,
   "id": "7f9c4c71",
   "metadata": {},
   "outputs": [],
   "source": []
  }
 ],
 "metadata": {
  "kernelspec": {
   "display_name": "Python 3 (ipykernel)",
   "language": "python",
   "name": "python3"
  },
  "language_info": {
   "codemirror_mode": {
    "name": "ipython",
    "version": 3
   },
   "file_extension": ".py",
   "mimetype": "text/x-python",
   "name": "python",
   "nbconvert_exporter": "python",
   "pygments_lexer": "ipython3",
   "version": "3.11.3"
  }
 },
 "nbformat": 4,
 "nbformat_minor": 5
}

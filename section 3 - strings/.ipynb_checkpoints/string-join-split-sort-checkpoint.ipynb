{
 "cells": [
  {
   "cell_type": "code",
   "execution_count": 39,
   "id": "f8202fad",
   "metadata": {},
   "outputs": [
    {
     "data": {
      "text/plain": [
       "'This-is-my-beautiful-apartment'"
      ]
     },
     "execution_count": 39,
     "metadata": {},
     "output_type": "execute_result"
    }
   ],
   "source": [
    "# join()\n",
    "'-'.join(['This', 'is', 'my', 'beautiful', 'apartment'])"
   ]
  },
  {
   "cell_type": "code",
   "execution_count": 38,
   "id": "ce9953f8",
   "metadata": {},
   "outputs": [
    {
     "data": {
      "text/plain": [
       "['How', 'many', 'languages', 'do', 'you', 'speak?']"
      ]
     },
     "execution_count": 38,
     "metadata": {},
     "output_type": "execute_result"
    }
   ],
   "source": [
    "# split()\n",
    "'How many\\tlanguages\\tdo\\nyou\\nspeak?'.split()"
   ]
  },
  {
   "cell_type": "code",
   "execution_count": 40,
   "id": "f21be97b",
   "metadata": {},
   "outputs": [
    {
     "data": {
      "text/plain": [
       "['How many\\tlanguages\\tdo', 'you', 'speak?']"
      ]
     },
     "execution_count": 40,
     "metadata": {},
     "output_type": "execute_result"
    }
   ],
   "source": [
    "# split()\n",
    "'How many\\tlanguages\\tdo\\nyou\\nspeak?'.split('\\n')"
   ]
  },
  {
   "cell_type": "code",
   "execution_count": 41,
   "id": "9c485a5d",
   "metadata": {},
   "outputs": [
    {
     "data": {
      "text/plain": [
       "['How many', 'languages', 'do\\nyou\\nspeak?']"
      ]
     },
     "execution_count": 41,
     "metadata": {},
     "output_type": "execute_result"
    }
   ],
   "source": [
    "# split()\n",
    "'How many\\tlanguages\\tdo\\nyou\\nspeak?'.split('\\t')"
   ]
  },
  {
   "cell_type": "code",
   "execution_count": 42,
   "id": "54585dde",
   "metadata": {},
   "outputs": [
    {
     "data": {
      "text/plain": [
       "['How many\\tlanguages\\tdo\\nyou\\nspeak?']"
      ]
     },
     "execution_count": 42,
     "metadata": {},
     "output_type": "execute_result"
    }
   ],
   "source": [
    "# split()\n",
    "'How many\\tlanguages\\tdo\\nyou\\nspeak?'.split('%') # It did know about this char and add the original string in a list"
   ]
  },
  {
   "cell_type": "code",
   "execution_count": 49,
   "id": "97ae84b8",
   "metadata": {},
   "outputs": [
    {
     "name": "stdout",
     "output_type": "stream",
     "text": [
      "['Adam', 'Barbara', 'Donna', 'Kate']\n"
     ]
    }
   ],
   "source": [
    "# sorted()\n",
    "# it returns a new sorted list without changing the original list\n",
    "names = ['Adam', 'Kate', 'Barbara', 'Donna']\n",
    "names_sorted = sorted(names)\n",
    "print(names_sorted)"
   ]
  },
  {
   "cell_type": "code",
   "execution_count": 48,
   "id": "c9a3e2e6",
   "metadata": {},
   "outputs": [
    {
     "name": "stdout",
     "output_type": "stream",
     "text": [
      "['Adam', 'Barbara', 'Donna', 'Kate']\n"
     ]
    }
   ],
   "source": [
    "# sort()\n",
    "# it changes the original list\n",
    "names = ['Adam', 'Kate', 'Barbara', 'Donna']\n",
    "names.sort()\n",
    "print(names)"
   ]
  },
  {
   "cell_type": "code",
   "execution_count": null,
   "id": "e4d41bdc",
   "metadata": {},
   "outputs": [],
   "source": []
  }
 ],
 "metadata": {
  "kernelspec": {
   "display_name": "Python 3 (ipykernel)",
   "language": "python",
   "name": "python3"
  },
  "language_info": {
   "codemirror_mode": {
    "name": "ipython",
    "version": 3
   },
   "file_extension": ".py",
   "mimetype": "text/x-python",
   "name": "python",
   "nbconvert_exporter": "python",
   "pygments_lexer": "ipython3",
   "version": "3.11.3"
  }
 },
 "nbformat": 4,
 "nbformat_minor": 5
}

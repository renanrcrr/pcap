{
 "cells": [
  {
   "cell_type": "code",
   "execution_count": 62,
   "id": "7005311d",
   "metadata": {},
   "outputs": [
    {
     "name": "stdout",
     "output_type": "stream",
     "text": [
      "['Once', 'upon', 'a', 'time', 'there', 'was', 'a', 'beginner', 'programmer', 'named', 'Alice', 'who', 'was', 'eager', 'to', 'learn', 'Python', 'She', 'tried', 'to', 'learn', 'from', 'books', 'but', 'found', 'it', 'difficult', 'to', 'grasp', 'the', 'concepts', 'One', 'day', 'she', 'stumbled', 'upon', 'an', 'online', 'course', 'Alice', 'was', 'thrilled', 'The', 'course', 'was', 'taught', 'by', 'a', 'well-known', 'programmer', 'who', 'made', 'the', 'lessons', 'interesting', 'and', 'easy', 'to', 'understand', 'The', 'course', 'covered', 'everything', 'a', 'beginner', 'programmer', 'needed', 'and', 'Alice', 'was', 'finally', 'able', 'to', 'understand', 'how', 'to', 'code', 'in', 'Python']\n",
      "interesting\n"
     ]
    }
   ],
   "source": [
    "sample_story = '''Once upon a time, there was a beginner programmer named Alice who was eager to learn Python. She tried to learn from books, but found it difficult to grasp the concepts. One day, she stumbled upon an online course.\n",
    "\n",
    "Alice was thrilled. The course was taught by a well-known programmer who made the lessons interesting and easy to understand. The course covered everything a beginner programmer needed, and Alice was finally able to understand how to code in Python.'''\n",
    "\n",
    "def get_longest_word(input_string):\n",
    "    words = input_string.replace('.', ' ').replace(',', ' ').split()\n",
    "    temp_max_word = ''\n",
    " \n",
    "    for word in words:\n",
    "      if len(word) > len(temp_max_word):\n",
    "        temp_max_word = word\n",
    "    \n",
    "    return temp_max_word\n",
    "\n",
    "print(get_longest_word(sample_story))"
   ]
  },
  {
   "cell_type": "code",
   "execution_count": 5,
   "id": "9e80d8d5",
   "metadata": {},
   "outputs": [
    {
     "data": {
      "text/plain": [
       "4"
      ]
     },
     "execution_count": 5,
     "metadata": {},
     "output_type": "execute_result"
    }
   ],
   "source": [
    "'renan'.rfind('n')"
   ]
  },
  {
   "cell_type": "code",
   "execution_count": 12,
   "id": "36d6160b",
   "metadata": {},
   "outputs": [
    {
     "data": {
      "text/plain": [
       "'Once'"
      ]
     },
     "execution_count": 12,
     "metadata": {},
     "output_type": "execute_result"
    }
   ],
   "source": [
    "sample_story.split()[0]"
   ]
  },
  {
   "cell_type": "code",
   "execution_count": 30,
   "id": "529f2d2e",
   "metadata": {},
   "outputs": [
    {
     "ename": "SyntaxError",
     "evalue": "invalid syntax. Perhaps you forgot a comma? (162370458.py, line 7)",
     "output_type": "error",
     "traceback": [
      "\u001b[1;36m  Cell \u001b[1;32mIn[30], line 7\u001b[1;36m\u001b[0m\n\u001b[1;33m    print(a[])\u001b[0m\n\u001b[1;37m          ^\u001b[0m\n\u001b[1;31mSyntaxError\u001b[0m\u001b[1;31m:\u001b[0m invalid syntax. Perhaps you forgot a comma?\n"
     ]
    }
   ],
   "source": [
    "a = ['One', 'Two', 'Three']\n",
    "\n",
    "count = 0\n",
    "\n",
    "for x in a:\n",
    "    count += 1\n",
    "    print(a[])\n",
    "\n",
    "print(count)"
   ]
  },
  {
   "cell_type": "code",
   "execution_count": null,
   "id": "35fad274",
   "metadata": {},
   "outputs": [],
   "source": []
  }
 ],
 "metadata": {
  "kernelspec": {
   "display_name": "Python 3 (ipykernel)",
   "language": "python",
   "name": "python3"
  },
  "language_info": {
   "codemirror_mode": {
    "name": "ipython",
    "version": 3
   },
   "file_extension": ".py",
   "mimetype": "text/x-python",
   "name": "python",
   "nbconvert_exporter": "python",
   "pygments_lexer": "ipython3",
   "version": "3.11.3"
  }
 },
 "nbformat": 4,
 "nbformat_minor": 5
}

{
 "cells": [
  {
   "cell_type": "code",
   "execution_count": 1,
   "id": "ad127c5d",
   "metadata": {},
   "outputs": [
    {
     "data": {
      "text/plain": [
       "4"
      ]
     },
     "execution_count": 1,
     "metadata": {},
     "output_type": "execute_result"
    }
   ],
   "source": [
    "'iloveliveinmelbourne'.index('e')"
   ]
  },
  {
   "cell_type": "code",
   "execution_count": 5,
   "id": "a8db7c9b",
   "metadata": {},
   "outputs": [
    {
     "name": "stdout",
     "output_type": "stream",
     "text": [
      "2\n",
      "2\n"
     ]
    }
   ],
   "source": [
    "my_text = 'This is a simple example!'\n",
    "print(my_text.index('is')) # Return the first occurence to is\n",
    "print(my_text.find('is')) # Return the first occurence to is"
   ]
  },
  {
   "cell_type": "code",
   "execution_count": 8,
   "id": "22a3a429",
   "metadata": {},
   "outputs": [
    {
     "name": "stdout",
     "output_type": "stream",
     "text": [
      "-1\n"
     ]
    }
   ],
   "source": [
    "my_text = 'This is a simple example!'\n",
    "#print(my_text.index('are')) # index throw an error when did not find the char\n",
    "print(my_text.find('are')) # find returns -1"
   ]
  },
  {
   "cell_type": "code",
   "execution_count": 13,
   "id": "28883e41",
   "metadata": {},
   "outputs": [
    {
     "data": {
      "text/plain": [
       "15"
      ]
     },
     "execution_count": 13,
     "metadata": {},
     "output_type": "execute_result"
    }
   ],
   "source": [
    "my_text = 'This is a simple example!'\n",
    "my_text.find('e', 14) # when 2 arguments, find returns the index from a start value inclusive "
   ]
  },
  {
   "cell_type": "code",
   "execution_count": 17,
   "id": "5c0cff37",
   "metadata": {},
   "outputs": [
    {
     "data": {
      "text/plain": [
       "15"
      ]
     },
     "execution_count": 17,
     "metadata": {},
     "output_type": "execute_result"
    }
   ],
   "source": [
    "my_text = 'This is a simple example!'\n",
    "my_text.find('e', 4, 16) # when 3 arguments, find returns the index from a start value to the end value exclusive "
   ]
  },
  {
   "cell_type": "code",
   "execution_count": 26,
   "id": "e3241638",
   "metadata": {},
   "outputs": [
    {
     "name": "stdout",
     "output_type": "stream",
     "text": [
      "Find method: returns the first index counting from que left, in this case ==> 12\n",
      "RFind method: returns the first index counting from que right, in this case ==> 20\n"
     ]
    }
   ],
   "source": [
    "my_text = 'This is a simple example!'\n",
    "# when 3 arguments, rfind returns the index from a start value to the end value exclusive, but it reads from the right side\n",
    "print('Find method: returns the first index counting from que left, in this case ==>', my_text.find('m', 9, 24))\n",
    "print('RFind method: returns the first index counting from que right, in this case ==>', my_text.rfind('m', 9, 24))"
   ]
  },
  {
   "cell_type": "code",
   "execution_count": 29,
   "id": "b54930ad",
   "metadata": {},
   "outputs": [
    {
     "data": {
      "text/plain": [
       "True"
      ]
     },
     "execution_count": 29,
     "metadata": {},
     "output_type": "execute_result"
    }
   ],
   "source": [
    "'renanrcrr123'.isalnum() # Verify if the string contain alfanumerics"
   ]
  },
  {
   "cell_type": "code",
   "execution_count": 30,
   "id": "83c48ead",
   "metadata": {},
   "outputs": [
    {
     "data": {
      "text/plain": [
       "True"
      ]
     },
     "execution_count": 30,
     "metadata": {},
     "output_type": "execute_result"
    }
   ],
   "source": [
    "'RENAN'.isalnum()"
   ]
  },
  {
   "cell_type": "code",
   "execution_count": 32,
   "id": "535195fc",
   "metadata": {},
   "outputs": [
    {
     "data": {
      "text/plain": [
       "False"
      ]
     },
     "execution_count": 32,
     "metadata": {},
     "output_type": "execute_result"
    }
   ],
   "source": [
    "'Danielle_Sampaio'.isalnum() # Return False because _ is not alfanumeric char"
   ]
  },
  {
   "cell_type": "code",
   "execution_count": 34,
   "id": "7e942f76",
   "metadata": {},
   "outputs": [
    {
     "data": {
      "text/plain": [
       "False"
      ]
     },
     "execution_count": 34,
     "metadata": {},
     "output_type": "execute_result"
    }
   ],
   "source": [
    "'Osley and Joaquim'.isalpha() # Return False baucase \" \" space is not alphabetic"
   ]
  },
  {
   "cell_type": "code",
   "execution_count": 35,
   "id": "fa8e1755",
   "metadata": {},
   "outputs": [
    {
     "data": {
      "text/plain": [
       "True"
      ]
     },
     "execution_count": 35,
     "metadata": {},
     "output_type": "execute_result"
    }
   ],
   "source": [
    "'Osley'.isalpha() # Return False baucase it is alphabetic"
   ]
  },
  {
   "cell_type": "code",
   "execution_count": 36,
   "id": "b0c2be10",
   "metadata": {},
   "outputs": [
    {
     "data": {
      "text/plain": [
       "True"
      ]
     },
     "execution_count": 36,
     "metadata": {},
     "output_type": "execute_result"
    }
   ],
   "source": [
    "'123'.isdigit()"
   ]
  },
  {
   "cell_type": "code",
   "execution_count": 37,
   "id": "e4987efc",
   "metadata": {},
   "outputs": [],
   "source": [
    "# islower()\n",
    "# isupper()\n",
    "# isspace()"
   ]
  },
  {
   "cell_type": "code",
   "execution_count": 54,
   "id": "0a4d8ab8",
   "metadata": {},
   "outputs": [
    {
     "data": {
      "text/plain": [
       "True"
      ]
     },
     "execution_count": 54,
     "metadata": {},
     "output_type": "execute_result"
    }
   ],
   "source": [
    "# islower()\n",
    "' beautiful house'.islower() # It returns False because there is upper char"
   ]
  },
  {
   "cell_type": "code",
   "execution_count": 47,
   "id": "645871f9",
   "metadata": {},
   "outputs": [
    {
     "data": {
      "text/plain": [
       "False"
      ]
     },
     "execution_count": 47,
     "metadata": {},
     "output_type": "execute_result"
    }
   ],
   "source": [
    "# isupper()\n",
    "'I study computer science'.isupper() # It returns False because there is lower char"
   ]
  },
  {
   "cell_type": "code",
   "execution_count": 53,
   "id": "21dc9b87",
   "metadata": {},
   "outputs": [
    {
     "data": {
      "text/plain": [
       "True"
      ]
     },
     "execution_count": 53,
     "metadata": {},
     "output_type": "execute_result"
    }
   ],
   "source": [
    "'DIEGO '.isupper()"
   ]
  },
  {
   "cell_type": "code",
   "execution_count": 49,
   "id": "4600ccb6",
   "metadata": {},
   "outputs": [
    {
     "data": {
      "text/plain": [
       "False"
      ]
     },
     "execution_count": 49,
     "metadata": {},
     "output_type": "execute_result"
    }
   ],
   "source": [
    "'Mariana Sampaio'.isspace()"
   ]
  },
  {
   "cell_type": "code",
   "execution_count": 56,
   "id": "c38bba62",
   "metadata": {},
   "outputs": [
    {
     "data": {
      "text/plain": [
       "True"
      ]
     },
     "execution_count": 56,
     "metadata": {},
     "output_type": "execute_result"
    }
   ],
   "source": [
    "\" \".isspace()"
   ]
  },
  {
   "cell_type": "code",
   "execution_count": null,
   "id": "a78680a8",
   "metadata": {},
   "outputs": [],
   "source": []
  }
 ],
 "metadata": {
  "kernelspec": {
   "display_name": "Python 3 (ipykernel)",
   "language": "python",
   "name": "python3"
  },
  "language_info": {
   "codemirror_mode": {
    "name": "ipython",
    "version": 3
   },
   "file_extension": ".py",
   "mimetype": "text/x-python",
   "name": "python",
   "nbconvert_exporter": "python",
   "pygments_lexer": "ipython3",
   "version": "3.11.3"
  }
 },
 "nbformat": 4,
 "nbformat_minor": 5
}

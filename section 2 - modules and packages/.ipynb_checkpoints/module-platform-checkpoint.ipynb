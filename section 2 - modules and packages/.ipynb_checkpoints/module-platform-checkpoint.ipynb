{
 "cells": [
  {
   "cell_type": "code",
   "execution_count": 2,
   "id": "48a5db59",
   "metadata": {},
   "outputs": [
    {
     "data": {
      "text/plain": [
       "'Windows-10-10.0.19045-SP0'"
      ]
     },
     "execution_count": 2,
     "metadata": {},
     "output_type": "execute_result"
    }
   ],
   "source": [
    "import platform\n",
    "\n",
    "platform.platform() #underlying platform"
   ]
  },
  {
   "cell_type": "code",
   "execution_count": 3,
   "id": "19e65678",
   "metadata": {},
   "outputs": [],
   "source": [
    "import platform\n"
   ]
  },
  {
   "cell_type": "code",
   "execution_count": 6,
   "id": "51b24007",
   "metadata": {},
   "outputs": [
    {
     "data": {
      "text/plain": [
       "'Windows-10'"
      ]
     },
     "execution_count": 6,
     "metadata": {},
     "output_type": "execute_result"
    }
   ],
   "source": [
    "platform.platform(True, True) # aliased=False, terse=False"
   ]
  },
  {
   "cell_type": "code",
   "execution_count": 7,
   "id": "b071037c",
   "metadata": {},
   "outputs": [
    {
     "data": {
      "text/plain": [
       "'AMD64'"
      ]
     },
     "execution_count": 7,
     "metadata": {},
     "output_type": "execute_result"
    }
   ],
   "source": [
    "platform.machine() #Return generic name of the processor"
   ]
  },
  {
   "cell_type": "code",
   "execution_count": 8,
   "id": "42d2fb71",
   "metadata": {},
   "outputs": [
    {
     "data": {
      "text/plain": [
       "'Intel64 Family 6 Model 142 Stepping 9, GenuineIntel'"
      ]
     },
     "execution_count": 8,
     "metadata": {},
     "output_type": "execute_result"
    }
   ],
   "source": [
    "platform.processor() #Return the real name of the processor"
   ]
  },
  {
   "cell_type": "code",
   "execution_count": 9,
   "id": "3e8d226c",
   "metadata": {},
   "outputs": [
    {
     "data": {
      "text/plain": [
       "'Windows'"
      ]
     },
     "execution_count": 9,
     "metadata": {},
     "output_type": "execute_result"
    }
   ],
   "source": [
    "platform.system() #Return generic system name"
   ]
  },
  {
   "cell_type": "code",
   "execution_count": 11,
   "id": "6bf9684c",
   "metadata": {},
   "outputs": [
    {
     "data": {
      "text/plain": [
       "'CPython'"
      ]
     },
     "execution_count": 11,
     "metadata": {},
     "output_type": "execute_result"
    }
   ],
   "source": [
    "platform.python_implementation() # Return the name of the python implementation"
   ]
  },
  {
   "cell_type": "code",
   "execution_count": 12,
   "id": "367bd80a",
   "metadata": {},
   "outputs": [
    {
     "data": {
      "text/plain": [
       "('3', '11', '3')"
      ]
     },
     "execution_count": 12,
     "metadata": {},
     "output_type": "execute_result"
    }
   ],
   "source": [
    "platform.python_version_tuple() #Return a tuple with 3 elements (major, minor, patch)"
   ]
  },
  {
   "cell_type": "code",
   "execution_count": 13,
   "id": "595e5db3",
   "metadata": {},
   "outputs": [
    {
     "data": {
      "text/plain": [
       "'10.0.19045'"
      ]
     },
     "execution_count": 13,
     "metadata": {},
     "output_type": "execute_result"
    }
   ],
   "source": [
    "platform.version() # Return the system's release version as a single  string"
   ]
  },
  {
   "cell_type": "code",
   "execution_count": null,
   "id": "cf3aca9a",
   "metadata": {},
   "outputs": [],
   "source": []
  }
 ],
 "metadata": {
  "kernelspec": {
   "display_name": "Python 3 (ipykernel)",
   "language": "python",
   "name": "python3"
  },
  "language_info": {
   "codemirror_mode": {
    "name": "ipython",
    "version": 3
   },
   "file_extension": ".py",
   "mimetype": "text/x-python",
   "name": "python",
   "nbconvert_exporter": "python",
   "pygments_lexer": "ipython3",
   "version": "3.11.3"
  }
 },
 "nbformat": 4,
 "nbformat_minor": 5
}

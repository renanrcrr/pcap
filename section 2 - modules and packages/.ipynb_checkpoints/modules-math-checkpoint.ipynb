{
 "cells": [
  {
   "cell_type": "code",
   "execution_count": 2,
   "id": "36355caa",
   "metadata": {},
   "outputs": [
    {
     "name": "stdout",
     "output_type": "stream",
     "text": [
      "__doc__\t__loader__\t__name__\t__package__\t__spec__\tacos\tacosh\tasin\tasinh\tatan\tatan2\tatanh\tcbrt\tceil\tcomb\tcopysign\tcos\tcosh\tdegrees\tdist\te\terf\terfc\texp\texp2\texpm1\tfabs\tfactorial\tfloor\tfmod\tfrexp\tfsum\tgamma\tgcd\thypot\tinf\tisclose\tisfinite\tisinf\tisnan\tisqrt\tlcm\tldexp\tlgamma\tlog\tlog10\tlog1p\tlog2\tmodf\tnan\tnextafter\tperm\tpi\tpow\tprod\tradians\tremainder\tsin\tsinh\tsqrt\ttan\ttanh\ttau\ttrunc\tulp\t"
     ]
    }
   ],
   "source": [
    "import math\n",
    "\n",
    "for name in dir(math):\n",
    "    print(name, end='\\t')"
   ]
  },
  {
   "cell_type": "code",
   "execution_count": 3,
   "id": "dda96caa",
   "metadata": {},
   "outputs": [
    {
     "name": "stdout",
     "output_type": "stream",
     "text": [
      "4\n",
      "4\n",
      "3\n",
      "-5\n"
     ]
    }
   ],
   "source": [
    "#ceil()\n",
    "print(math.ceil(3.41))\n",
    "print(math.ceil(3.12))\n",
    "print(math.ceil(3.0))\n",
    "print(math.ceil(-5.1))"
   ]
  },
  {
   "cell_type": "code",
   "execution_count": 4,
   "id": "be72d2d9",
   "metadata": {},
   "outputs": [
    {
     "name": "stdout",
     "output_type": "stream",
     "text": [
      "3\n",
      "3\n",
      "3\n",
      "-6\n"
     ]
    }
   ],
   "source": [
    "#floor()\n",
    "print(math.floor(3.41))\n",
    "print(math.floor(3.12))\n",
    "print(math.floor(3.0))\n",
    "print(math.floor(-5.1))"
   ]
  },
  {
   "cell_type": "code",
   "execution_count": 5,
   "id": "be1ae5bf",
   "metadata": {},
   "outputs": [
    {
     "name": "stdout",
     "output_type": "stream",
     "text": [
      "3\n",
      "3\n",
      "3\n",
      "-5\n"
     ]
    }
   ],
   "source": [
    "#trunc()\n",
    "print(math.trunc(3.41))\n",
    "print(math.trunc(3.12))\n",
    "print(math.trunc(3.0))\n",
    "print(math.trunc(-5.3))"
   ]
  },
  {
   "cell_type": "code",
   "execution_count": 6,
   "id": "cd33f875",
   "metadata": {},
   "outputs": [
    {
     "name": "stdout",
     "output_type": "stream",
     "text": [
      "120\n"
     ]
    }
   ],
   "source": [
    "# factorial()\n",
    "print(math.factorial(5))"
   ]
  },
  {
   "cell_type": "code",
   "execution_count": 8,
   "id": "67fc8ca2",
   "metadata": {},
   "outputs": [
    {
     "name": "stdout",
     "output_type": "stream",
     "text": [
      "2.0\n",
      "4.0\n",
      "10.0\n"
     ]
    }
   ],
   "source": [
    "# sqrt()\n",
    "print(math.sqrt(4))\n",
    "print(math.sqrt(16))\n",
    "print(math.sqrt(100))"
   ]
  },
  {
   "cell_type": "code",
   "execution_count": 10,
   "id": "cdb76ccb",
   "metadata": {},
   "outputs": [
    {
     "name": "stdout",
     "output_type": "stream",
     "text": [
      "5.0\n"
     ]
    }
   ],
   "source": [
    "# hypot()\n",
    "print(math.hypot(4, 3))"
   ]
  },
  {
   "cell_type": "code",
   "execution_count": null,
   "id": "94889808",
   "metadata": {},
   "outputs": [],
   "source": []
  }
 ],
 "metadata": {
  "kernelspec": {
   "display_name": "Python 3 (ipykernel)",
   "language": "python",
   "name": "python3"
  },
  "language_info": {
   "codemirror_mode": {
    "name": "ipython",
    "version": 3
   },
   "file_extension": ".py",
   "mimetype": "text/x-python",
   "name": "python",
   "nbconvert_exporter": "python",
   "pygments_lexer": "ipython3",
   "version": "3.11.3"
  }
 },
 "nbformat": 4,
 "nbformat_minor": 5
}

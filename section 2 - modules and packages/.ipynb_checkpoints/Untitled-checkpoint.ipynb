{
 "cells": [
  {
   "cell_type": "code",
   "execution_count": 2,
   "id": "06bf2b05",
   "metadata": {},
   "outputs": [
    {
     "name": "stdout",
     "output_type": "stream",
     "text": [
      "10.0.19045\n"
     ]
    }
   ],
   "source": [
    "import platform\n",
    "\n",
    "print(platform.version())"
   ]
  },
  {
   "cell_type": "code",
   "execution_count": 3,
   "id": "3a484fbc",
   "metadata": {},
   "outputs": [
    {
     "name": "stdout",
     "output_type": "stream",
     "text": [
      "0.8943349694013064\n",
      "0.36226767351455746\n"
     ]
    }
   ],
   "source": [
    "import random\n",
    "for i in range(2):\n",
    "  print(random.random())"
   ]
  },
  {
   "cell_type": "code",
   "execution_count": null,
   "id": "a833bd67",
   "metadata": {},
   "outputs": [],
   "source": []
  }
 ],
 "metadata": {
  "kernelspec": {
   "display_name": "Python 3 (ipykernel)",
   "language": "python",
   "name": "python3"
  },
  "language_info": {
   "codemirror_mode": {
    "name": "ipython",
    "version": 3
   },
   "file_extension": ".py",
   "mimetype": "text/x-python",
   "name": "python",
   "nbconvert_exporter": "python",
   "pygments_lexer": "ipython3",
   "version": "3.11.3"
  }
 },
 "nbformat": 4,
 "nbformat_minor": 5
}
